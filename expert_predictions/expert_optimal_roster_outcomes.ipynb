{
 "cells": [
  {
   "cell_type": "markdown",
   "metadata": {},
   "source": [
    "# Determine Point Totals and Success of Optimal Rosters based on Expert Predictions"
   ]
  },
  {
   "cell_type": "markdown",
   "metadata": {},
   "source": [
    "## read in expert predictions for weeks 1-10 2020"
   ]
  },
  {
   "cell_type": "code",
   "execution_count": 1,
   "metadata": {},
   "outputs": [],
   "source": [
    "using JuMP, Gurobi, CSV, DataFrames"
   ]
  },
  {
   "cell_type": "code",
   "execution_count": 2,
   "metadata": {},
   "outputs": [],
   "source": [
    "all_data = DataFrame(CSV.File(\"output/expert_projections_with_DKP_2020.csv\"))\n",
    ";"
   ]
  },
  {
   "cell_type": "markdown",
   "metadata": {},
   "source": [
    "## read in point total required to make money in a given week (https://rotogrinders.com/resultsdb)"
   ]
  },
  {
   "cell_type": "code",
   "execution_count": 3,
   "metadata": {},
   "outputs": [],
   "source": [
    "money_mat = [\n",
    "    2020 1 144.3\n",
    "    2020 2 132.6\n",
    "    2020 3 135.8\n",
    "    2020 4 136.1\n",
    "    2020 5 145.04\n",
    "    2020 6 139.94\n",
    "    2020 7 177.6\n",
    "    2020 8 121.02\n",
    "    2020 9 136.34\n",
    "    2020 10 118.5\n",
    "]\n",
    ";"
   ]
  },
  {
   "cell_type": "markdown",
   "metadata": {},
   "source": [
    "## find optimal roster and store results"
   ]
  },
  {
   "cell_type": "code",
   "execution_count": 4,
   "metadata": {},
   "outputs": [
    {
     "name": "stdout",
     "output_type": "stream",
     "text": [
      "1\n",
      "Academic license - for non-commercial use only\n",
      "Academic license - for non-commercial use only\n",
      "2\n",
      "Academic license - for non-commercial use only\n",
      "Academic license - for non-commercial use only\n",
      "3\n",
      "Academic license - for non-commercial use only\n",
      "Academic license - for non-commercial use only\n",
      "4\n",
      "Academic license - for non-commercial use only\n",
      "Academic license - for non-commercial use only\n",
      "5\n",
      "Academic license - for non-commercial use only\n",
      "Academic license - for non-commercial use only\n",
      "6\n",
      "Academic license - for non-commercial use only\n",
      "Academic license - for non-commercial use only\n",
      "7\n",
      "Academic license - for non-commercial use only\n",
      "Academic license - for non-commercial use only\n",
      "8\n",
      "Academic license - for non-commercial use only\n",
      "Academic license - for non-commercial use only\n",
      "9\n",
      "Academic license - for non-commercial use only\n",
      "Academic license - for non-commercial use only\n",
      "10\n",
      "Academic license - for non-commercial use only\n",
      "Academic license - for non-commercial use only\n"
     ]
    }
   ],
   "source": [
    "extras = 9 # number of extra suboptimal rosters to create\n",
    "results = Array{Any}(undef,length(1:10),5+extras) # to store results\n",
    "row = 1 #used to iterate over when populating \"results\" array\n",
    "eps = 1 #degree to which objective value must decrease when finding suboptimal roster. \n",
    "\n",
    "#perform analysis in weeks 1-10 for 2020.\n",
    "for week in 1:10\n",
    "    println(week)\n",
    "    #subset to week being analyzed for both predictions and money line\n",
    "    df = all_data[(all_data[:,:week] .== week) .& (all_data[:,:year] .== 2020),:]\n",
    "    money = money_mat[(money_mat[:,1] .== 2020) .& (money_mat[:,2] .== week),3]\n",
    "\n",
    "    #get optimal roster given expert predictions\n",
    "    #optimization model\n",
    "    model = Model(Gurobi.Optimizer)\n",
    "    set_optimizer_attributes(model, \"OutputFlag\"=>0)\n",
    "\n",
    "    num_players = size(df)[1]\n",
    "    # Insert variables and constraints\n",
    "    @variable(model,z[i=1:num_players],Bin)\n",
    "    @constraint(model,sum(z[i]*df[i,:DKSalary] for i=1:num_players) <= 50000)\n",
    "    @constraint(model,sum(z[i]*df[i,:Pos_Def] for i=1:num_players) == 1)\n",
    "    @constraint(model,sum(z[i]*df[i,:Pos_QB] for i=1:num_players) == 1)\n",
    "    @constraint(model,sum(z[i]*df[i,:Pos_TE] for i=1:num_players) >= 1)\n",
    "    @constraint(model,sum(z[i]*df[i,:Pos_RB] for i=1:num_players) >= 2)\n",
    "    @constraint(model,sum(z[i]*df[i,:Pos_WR] for i=1:num_players) >= 3)\n",
    "    @constraint(model,sum(z[i]*(df[i,:Pos_TE] + df[i,:Pos_RB] + df[i,:Pos_WR]) for i=1:num_players) == 7)\n",
    "    @objective(model,Max, sum(z[i]*df[i,:projection] for i=1:num_players))\n",
    "\n",
    "    # Optimize\n",
    "    optimize!(model)\n",
    "    obj = objective_value(model)\n",
    "    #actual points from optimal roster (chosen based on predicted points)\n",
    "    points = sum(df[value.(z) .== 1,:DKP])\n",
    "    results[row,1] = 2020\n",
    "    results[row,2] = week\n",
    "    results[row,3] = \"expert\"\n",
    "    results[row,4] = money[1]\n",
    "    results[row,5] = points\n",
    "\n",
    "    #create additional suboptimal rosters\n",
    "    for i in 1:extras\n",
    "        @constraint(model,sum(z[i]*df[i,:projection] for i=1:num_players) <= obj - eps)\n",
    "        optimize!(model)\n",
    "        obj = objective_value(model)\n",
    "        #actual points from optimal roster (chosen based on predicted points)\n",
    "        points = sum(df[value.(z) .== 1,:DKP])\n",
    "        results[row,i+5] = points\n",
    "    end\n",
    "    row = row + 1\n",
    "end"
   ]
  },
  {
   "cell_type": "markdown",
   "metadata": {},
   "source": [
    "## save results for further analysis in R"
   ]
  },
  {
   "cell_type": "code",
   "execution_count": 5,
   "metadata": {},
   "outputs": [],
   "source": [
    "CSV.write(\"output/optimization_results.csv\",DataFrame(results))\n",
    ";"
   ]
  }
 ],
 "metadata": {
  "kernelspec": {
   "display_name": "Julia 1.0.5",
   "language": "julia",
   "name": "julia-1.0"
  },
  "language_info": {
   "file_extension": ".jl",
   "mimetype": "application/julia",
   "name": "julia",
   "version": "1.0.5"
  }
 },
 "nbformat": 4,
 "nbformat_minor": 4
}
